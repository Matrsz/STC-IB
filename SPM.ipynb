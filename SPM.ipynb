{
 "cells": [
  {
   "cell_type": "code",
   "execution_count": 1,
   "metadata": {},
   "outputs": [],
   "source": [
    "using Unitful, UnitfulRecipes           # Unidades físicas\n",
    "using FFTW                              # Transformadas de Fourier\n",
    "using Plots, PlotThemes, ColorSchemes   # Gráficos\n",
    "using Spectra                           # Para encontrar el fwhm\n",
    "using UnPack\n",
    "\n",
    "import PhysicalConstants.CODATA2014: c_0\n",
    "c = c_0 |> u\"km/ps\"\n",
    "\n",
    "theme(:juno)\n",
    "default(size=(800,400), palette=:seaborn_deep6)"
   ]
  },
  {
   "cell_type": "markdown",
   "metadata": {},
   "source": [
    "Al igual que en el problema anterior, adaptamos las funciones `fft` y `ifft` para que admitan valores con unidades."
   ]
  },
  {
   "cell_type": "code",
   "execution_count": null,
   "metadata": {},
   "outputs": [],
   "source": [
    "function ufft(y, dim=1)\n",
    "    yval, yunit = ustrip.(y), unit(y[1])\n",
    "    return fft(yval, dim)*yunit\n",
    "end\n",
    "function uifft(y, dim=1)\n",
    "    yval, yunit = ustrip.(y), unit(y[1])\n",
    "    return ifft(yval, dim)*yunit\n",
    "end"
   ]
  },
  {
   "cell_type": "markdown",
   "metadata": {},
   "source": [
    "Ya que vamos a trabajar con más de un tipo de fibra, definimos un tipo de dato que represente los specs de una fibra óptica. "
   ]
  },
  {
   "cell_type": "code",
   "execution_count": null,
   "metadata": {},
   "outputs": [],
   "source": [
    "struct Fibra γ; α; end\n",
    "\n",
    "SMF = Fibra(1.2u\"W^(-1)*km^(-1)\", uconvertp(NoUnits,0.02u\"dB\")*u\"km^-1\") \n",
    "NZ_DSF = Fibra(1.8u\"W^(-1)*km^(-1)\", uconvertp(NoUnits,0.22u\"dB\")*u\"km^-1\")"
   ]
  },
  {
   "cell_type": "markdown",
   "metadata": {},
   "source": [
    "Elegimos el número de puntos en el que vamos a discretizar el dominio, y elegimos propagar un pulso de ancho de $10\\,\\text{ps}$. Definimos el vector $z$ de $0$ a $80 \\, \\text{km}$"
   ]
  },
  {
   "cell_type": "code",
   "execution_count": null,
   "metadata": {},
   "outputs": [],
   "source": [
    "N = 512\n",
    "\n",
    "T0 = 10u\"ps\"\n",
    "B0 = 1/T0 |> u\"GHz\"\n",
    "\n",
    "z = range(0u\"km\", 80u\"km\", N)"
   ]
  },
  {
   "cell_type": "markdown",
   "metadata": {},
   "source": [
    "Elegimos la fibra SMF y un pulso con potencia de $1\\,\\text{mW}$. En función de esto calculamos la longitud característica de no-linealidad $L_{NL}$ y la de atenuación $L_{eff}$"
   ]
  },
  {
   "cell_type": "code",
   "execution_count": null,
   "metadata": {},
   "outputs": [],
   "source": [
    "fibra = SMF\n",
    "P0 = 10u\"mW\"\n",
    "\n",
    "Leff = 1/fibra.α\n",
    "LNL = 1/(fibra.γ*P0) |> u\"km\"\n",
    "\n",
    "println(\"Longitud característica de atenuación = $Leff\\nLongitud característica de no-lineal. = $LNL\")"
   ]
  },
  {
   "cell_type": "markdown",
   "metadata": {},
   "source": [
    "Definimos un vector de frecuencias en función del ancho final del espectro en el caso con más SPM (máximo $\\gamma$, máximo $P_0$), y el vector de tiempo en función de la resolución del vector de frecuencias. Sobre ese vector de tiempo definimos el pulso gaussiano de potencia $P_0$"
   ]
  },
  {
   "cell_type": "code",
   "execution_count": null,
   "metadata": {},
   "outputs": [],
   "source": [
    "ϕmax = NZ_DSF.γ*100u\"mW\"*z[end]\n",
    "Bf = sqrt(1+4/(3*sqrt(3))*ϕmax^2)*B0\n",
    "\n",
    "f = range(-Bf, Bf, N)\n",
    "\n",
    "Δt = 1/(f[2]-f[1]) |> u\"ps\"\n",
    "t = fftfreq(N, Δt) |> fftshift;\n",
    "\n",
    "At0 = sqrt(P0)*exp.(-t.^2/(2T0^2))\n",
    "Af0 = ufft(At0) |> fftshift\n",
    "\n",
    "p1 = plot(t, At0.^2, title=\"Pulso\")\n",
    "p2 = plot(f, abs.(Af0).^2, title=\"Espectro\")\n",
    "plot(p1, p2)"
   ]
  },
  {
   "cell_type": "markdown",
   "metadata": {},
   "source": [
    "Definimos una grilla de coordenadas discretas $(i,\\, j)$ en donde vamos a evaluar el problema. Esta grilla se va a usar tanto para indexar coordenadas $(z,\\, t)$ como $(z,\\, f)$."
   ]
  },
  {
   "cell_type": "code",
   "execution_count": null,
   "metadata": {},
   "outputs": [],
   "source": [
    "ij = Iterators.product(1:N, 1:N) |> collect;"
   ]
  },
  {
   "cell_type": "markdown",
   "metadata": {},
   "source": [
    "Para para calcular la evolución del espectro a lo largo de la fibra, usamos el resultado  \n",
    "$$A(z,t) = A(0, t) \\exp\\left[i\\gamma \\lvert A(z,0)\\rvert^2z\\right] \\longrightarrow A_t[i, j] = A_{t0}[j]\\exp\\left[i\\gamma \\lvert A_{t0}[j]\\rvert^2z_i\\right]$$"
   ]
  },
  {
   "cell_type": "code",
   "execution_count": null,
   "metadata": {},
   "outputs": [],
   "source": [
    "A((i, j)) = At0[j]*exp(im*fibra.γ*abs(At0[j])^2*z[i])"
   ]
  },
  {
   "cell_type": "markdown",
   "metadata": {},
   "source": [
    "Evaluamos $A_t[i,j]$ en los puntos $(i,\\, j) \\leftrightarrow(z,\\, t)$. Transformamos Fourier a lo largo de la dimensión $j$ para obtener el resultado $A_f[i,j]$ en el dominio $(i,\\, j) \\leftrightarrow(z,\\, f)$"
   ]
  },
  {
   "cell_type": "code",
   "execution_count": null,
   "metadata": {},
   "outputs": [],
   "source": [
    "At = A.(ij)\n",
    "Af = ufft(At, 2)\n",
    "Af = fftshift(Af, 2);"
   ]
  },
  {
   "cell_type": "markdown",
   "metadata": {},
   "source": [
    "Visualizamos la evolución de la forma del pulso y del espectro en forma _heatmap_"
   ]
  },
  {
   "cell_type": "code",
   "execution_count": null,
   "metadata": {},
   "outputs": [],
   "source": [
    "function heatmap_pulse(z, t, At, f, Af)\n",
    "    p1 = heatmap(z, t, abs.(At').^2, xlabel=\"z\", ylabel=\"I(t)\", title=\"Pulso\")\n",
    "    p2 = heatmap(z, f, abs.(Af').^2, xlabel=\"z\", ylabel=\"I(f)\", title=\"Espectro\")\n",
    "    plot(p1, p2, layout=(1,2), colorbar=false, zaxis=:log)\n",
    "end\n",
    "\n",
    "heatmap_pulse(z, t, At, f, Af)"
   ]
  },
  {
   "cell_type": "markdown",
   "metadata": {},
   "source": [
    "Y también con una animación que muestra la forma del pulso mientras este se propaga a través de la fibra"
   ]
  },
  {
   "cell_type": "code",
   "execution_count": null,
   "metadata": {},
   "outputs": [],
   "source": [
    "function animate_pulse(t, At, f, Af)\n",
    "    ymaxf = maximum(abs.(Af).^2)\n",
    "    ymaxt = maximum(abs.(At).^2)*1.1\n",
    "    xlims = (-5*T0, 5*T0)\n",
    "    @gif for i in 1:N   \n",
    "        p2 = plot(f, abs.(Af[i,:]).^2, linewidth=2, ylims=(0u\"W\", ymaxf), label=\"Potencia Total\", xlabel = \"f\", ylabel = \"I(f)\", title=\"Espectro\")\n",
    "        plot!(f, real(Af[i,:]).^2, label=\"En Fase\", linewidth=1); \n",
    "        plot!(f, imag(Af[i,:]).^2, label=\"Cuadratura\", linewidth=1)\n",
    "\n",
    "        p1 = plot(t, abs.(At[i,:]).^2, linewidth=2, xlims=xlims, ylims=(0u\"W\", ymaxt), label=\"Potencia Total\", xlabel = \"t\", ylabel = \"I(t)\", title=\"Pulso\")\n",
    "        plot!(t, real(At[i,:]).^2, label=\"En Fase\", linewidth=1); \n",
    "        plot!(t, imag(At[i,:]).^2, label=\"Cuadratura\", linewidth=1)\n",
    "        plot(p1, p2, layout=(1,2))\n",
    "    end every 8\n",
    "end\n",
    "\n",
    "animate_pulse(t, At, f, Af)"
   ]
  },
  {
   "cell_type": "markdown",
   "metadata": {},
   "source": [
    "Ahora consideramos el efecto de la atenuación, usamos el resultado\n",
    "\n",
    "$$A(z,t) = A(0, t) \\exp\\left[i\\gamma \\lvert A(z,0)\\rvert^2z_{eff}\\right] \\longrightarrow A_t[i, j] = A_{t0}[j]\\exp\\left[i\\gamma \\lvert A_{t0}[j]\\rvert^2z_{eff}[i]\\right]$$\n",
    "Donde la longitud efectiva es: $z_{eff} = \\dfrac{1-e^{-\\alpha z}} \\alpha$"
   ]
  },
  {
   "cell_type": "code",
   "execution_count": null,
   "metadata": {},
   "outputs": [],
   "source": [
    "function A_att((i, j))\n",
    "    zeff = (1-exp(-fibra.α*z[i]))/fibra.α\n",
    "    return At0[j]*exp(im*fibra.γ*abs(At0[j])^2*zeff)\n",
    "end\n",
    "\n",
    "At = A_att.(ij)\n",
    "Af = ufft(At, 2)\n",
    "Af = fftshift(Af, 2);"
   ]
  },
  {
   "cell_type": "code",
   "execution_count": null,
   "metadata": {},
   "outputs": [],
   "source": [
    "heatmap_pulse(z, t, At, f, Af)"
   ]
  },
  {
   "cell_type": "code",
   "execution_count": null,
   "metadata": {},
   "outputs": [],
   "source": [
    "animate_pulse(t, At, f, Af)"
   ]
  },
  {
   "cell_type": "markdown",
   "metadata": {},
   "source": [
    "Repetimos el análisis incrementando la potencia del pulso a $100\\, \\text{mW}$"
   ]
  },
  {
   "cell_type": "code",
   "execution_count": null,
   "metadata": {},
   "outputs": [],
   "source": [
    "P0 = 100u\"mW\"\n",
    "\n",
    "Leff = 1/fibra.α\n",
    "LNL = 1/(fibra.γ*P0) |> u\"km\"\n",
    "\n",
    "println(\"Longitud característica de atenuación = $Leff\\nLongitud característica de no-lineal. = $LNL\")"
   ]
  },
  {
   "cell_type": "markdown",
   "metadata": {},
   "source": [
    "Primero sin atenuación:"
   ]
  },
  {
   "cell_type": "code",
   "execution_count": null,
   "metadata": {},
   "outputs": [],
   "source": [
    "At = A.(ij)\n",
    "Af = ufft(At, 2)\n",
    "Af = fftshift(Af, 2);\n",
    "\n",
    "heatmap_pulse(z, t, At, f, Af)"
   ]
  },
  {
   "cell_type": "code",
   "execution_count": null,
   "metadata": {},
   "outputs": [],
   "source": [
    "animate_pulse(t, At, f, Af)"
   ]
  },
  {
   "cell_type": "markdown",
   "metadata": {},
   "source": [
    "Luego con atenuación:"
   ]
  },
  {
   "cell_type": "code",
   "execution_count": null,
   "metadata": {},
   "outputs": [],
   "source": [
    "At = A_att.(ij)\n",
    "Af = ufft(At, 2)\n",
    "Af = fftshift(Af, 2);\n",
    "\n",
    "heatmap_pulse(z, t, At, f, Af)"
   ]
  },
  {
   "cell_type": "code",
   "execution_count": null,
   "metadata": {},
   "outputs": [],
   "source": [
    "animate_pulse(t, At, f, Af)"
   ]
  },
  {
   "cell_type": "markdown",
   "metadata": {},
   "source": [
    "Ahora con la fibra TW-RS, primero con un pulso de $10\\,\\text{mW}$, sin atenuación"
   ]
  },
  {
   "cell_type": "code",
   "execution_count": null,
   "metadata": {},
   "outputs": [],
   "source": [
    "fibra = NZ_DSF\n",
    "P0 = 10u\"mW\"\n",
    "\n",
    "Leff = 1/fibra.α\n",
    "LNL = 1/(fibra.γ*P0) |> u\"km\"\n",
    "\n",
    "println(\"Longitud característica de atenuación = $Leff\\nLongitud característica de no-lineal. = $LNL\")"
   ]
  },
  {
   "cell_type": "code",
   "execution_count": null,
   "metadata": {},
   "outputs": [],
   "source": [
    "At = A.(ij)\n",
    "Af = ufft(At, 2)\n",
    "Af = fftshift(Af, 2);\n",
    "\n",
    "heatmap_pulse(z, t, At, f, Af)"
   ]
  },
  {
   "cell_type": "code",
   "execution_count": null,
   "metadata": {},
   "outputs": [],
   "source": [
    "animate_pulse(t, At, f, Af)"
   ]
  },
  {
   "cell_type": "markdown",
   "metadata": {},
   "source": [
    "Y con atenuación"
   ]
  },
  {
   "cell_type": "code",
   "execution_count": null,
   "metadata": {},
   "outputs": [],
   "source": [
    "At = A.(ij)\n",
    "Af = ufft(At, 2)\n",
    "Af = fftshift(Af, 2);\n",
    "\n",
    "heatmap_pulse(z, t, At, f, Af)"
   ]
  },
  {
   "cell_type": "code",
   "execution_count": null,
   "metadata": {},
   "outputs": [],
   "source": [
    "animate_pulse(t, At, f, Af)"
   ]
  },
  {
   "cell_type": "markdown",
   "metadata": {},
   "source": [
    "Finalmente la fibra TW-RS, primero con un pulso de $100\\,\\text{mW}$, sin atenuación"
   ]
  },
  {
   "cell_type": "code",
   "execution_count": null,
   "metadata": {},
   "outputs": [],
   "source": [
    "fibra = NZ_DSF\n",
    "P0 = 100u\"mW\"\n",
    "\n",
    "Leff = 1/fibra.α\n",
    "LNL = 1/(fibra.γ*P0) |> u\"km\"\n",
    "\n",
    "println(\"Longitud característica de atenuación = $Leff\\nLongitud característica de no-lineal. = $LNL\")"
   ]
  },
  {
   "cell_type": "code",
   "execution_count": null,
   "metadata": {},
   "outputs": [],
   "source": [
    "At = A.(ij)\n",
    "Af = ufft(At, 2)\n",
    "Af = fftshift(Af, 2);\n",
    "\n",
    "heatmap_pulse(z, t, At, f, Af)"
   ]
  },
  {
   "cell_type": "code",
   "execution_count": null,
   "metadata": {},
   "outputs": [],
   "source": [
    "animate_pulse(t, At, f, Af)"
   ]
  },
  {
   "cell_type": "markdown",
   "metadata": {},
   "source": [
    "Y con atenuación"
   ]
  },
  {
   "cell_type": "code",
   "execution_count": null,
   "metadata": {},
   "outputs": [],
   "source": [
    "At = A_att.(ij)\n",
    "Af = ufft(At, 2)\n",
    "Af = fftshift(Af, 2);\n",
    "\n",
    "heatmap_pulse(z, t, At, f, Af)"
   ]
  },
  {
   "cell_type": "code",
   "execution_count": null,
   "metadata": {},
   "outputs": [],
   "source": [
    "animate_pulse(t, At, f, Af)"
   ]
  },
  {
   "cell_type": "markdown",
   "metadata": {},
   "source": []
  }
 ],
 "metadata": {
  "kernelspec": {
   "display_name": "Julia 1.7.2",
   "language": "julia",
   "name": "julia-1.7"
  },
  "language_info": {
   "file_extension": ".jl",
   "mimetype": "application/julia",
   "name": "julia",
   "version": "1.7.2"
  },
  "orig_nbformat": 4
 },
 "nbformat": 4,
 "nbformat_minor": 2
}
