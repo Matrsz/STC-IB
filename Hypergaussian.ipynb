{
 "cells": [
  {
   "cell_type": "code",
   "execution_count": null,
   "metadata": {},
   "outputs": [],
   "source": [
    "using Unitful, UnitfulRecipes           # Unidades físicas\n",
    "using FFTW                              # Transformadas de Fourier\n",
    "using Plots, PlotThemes, ColorSchemes   # Gráficos\n",
    "using Trapz                             # Integral Numérica\n",
    "\n",
    "import PhysicalConstants.CODATA2014: c_0\n",
    "c = c_0 |> u\"km/ps\"\n",
    "\n",
    "theme(:juno)\n",
    "default(size=(800,400), linewidth=2, palette=:seaborn_deep6)"
   ]
  },
  {
   "cell_type": "code",
   "execution_count": null,
   "metadata": {},
   "outputs": [],
   "source": [
    "function ufft(y, dim=1)\n",
    "    yval, yunit = ustrip.(y), unit(y[1])\n",
    "    return fft(yval, dim)*yunit\n",
    "end\n",
    "function uifft(y, dim=1)\n",
    "    yval, yunit = ustrip.(y), unit(y[1])\n",
    "    return ifft(yval, dim)*yunit\n",
    "end\n",
    "function utrapz(x, y)\n",
    "    xval, xunit = ustrip.(x), unit(x[1])\n",
    "    yval, yunit = ustrip.(y), unit(y[1])\n",
    "    return trapz(xval, yval)*yunit*xunit\n",
    "end \n",
    "function fwhm(x, y)\n",
    "    maxy = maximum(y)\n",
    "    n1 = findfirst(a -> a>maxy/2, y)\n",
    "    n2 = findlast(a -> a>maxy/2, y)\n",
    "    return x[n2]-x[n1]\n",
    "end\n",
    "\n",
    "power(x, y) = utrapz(x, abs.(y).^2)\n",
    "\n",
    "normalize(x, Ax, y, Ay) = Ay*sqrt(power(x, Ax)/power(y, Ay))"
   ]
  },
  {
   "cell_type": "code",
   "execution_count": null,
   "metadata": {},
   "outputs": [],
   "source": [
    "N = 1024\n",
    "\n",
    "P0 = 1u\"mW\"\n",
    "T0 = 25u\"ps\"\n",
    "\n",
    "λ = 1550u\"nm\"\n",
    "α = uconvertp(NoUnits,0.02u\"dB\")*u\"km^-1\"\n",
    "D = 18u\"ps/(nm*km)\"\n",
    "γ = 1.2u\"W^(-1)*km^(-1)\"\n",
    "\n",
    "β2 = -λ^2*D/(2π*c) |> u\"ps^2/km\""
   ]
  },
  {
   "cell_type": "code",
   "execution_count": null,
   "metadata": {},
   "outputs": [],
   "source": [
    "z = range(0u\"km\", 80u\"km\", N)\n",
    "h = z[2]-z[1]\n",
    "\n",
    "LD = T0^2/abs(β2)\n",
    "\n",
    "Tf = sqrt(1+z[end]^2/LD^2)*T0\n",
    "\n",
    "t = range(-6*Tf, 6*Tf, N)\n",
    "Δf = 1/(t[2]-t[1]) |> u\"GHz\"\n",
    "f = fftfreq(N, Δf) |> fftshift;\n",
    "\n",
    "At = zeros(N,N)*(0.0+im*0.0)*u\"sqrt(mW)\";\n",
    "Af = zeros(N,N)*(0.0+im*0.0)*u\"sqrt(mW*ps/GHz)\";"
   ]
  },
  {
   "cell_type": "code",
   "execution_count": null,
   "metadata": {},
   "outputs": [],
   "source": [
    "At[1,:] = sqrt(P0)*exp.(-t.^4/(2*T0^4))\n",
    "Af[1,:] = normalize(t, At[1,:], f, ufft(At[1,:]) |> fftshift)\n",
    "\n",
    "p1 = plot(t, abs.(At[1,:]).^2, title=\"Pulso\")\n",
    "p2 = plot(f, abs.(Af[1,:]).^2, title=\"Espectro\")\n",
    "println(\"T0 = $(fwhm(t,abs.(At[1,:]).^2))\\nB0 = $(fwhm(f,abs.(Af[1,:]).^2))\")\n",
    "plot(p1, p2)"
   ]
  },
  {
   "cell_type": "code",
   "execution_count": null,
   "metadata": {},
   "outputs": [],
   "source": [
    "A_spm(At) = At .* exp.(im*γ*abs.(At).^2*h)\n",
    "A_gvd(Af) = Af .* exp.(im*β2/2*(2π*f).^2*h)\n",
    "\n",
    "function split_step(N_op, D_op)\n",
    "    for i in 2:N\n",
    "        AfD = D_op(Af[i-1,:])\n",
    "        AtD = normalize(f, AfD, t, uifft(AfD))\n",
    "        AtN = N_op(AtD) \n",
    "        \n",
    "        Af[i,:] = normalize(t, AtN, f, ufft(AtN))\n",
    "        At[i,:] = AtN \n",
    "    end\n",
    "end"
   ]
  },
  {
   "cell_type": "code",
   "execution_count": null,
   "metadata": {},
   "outputs": [],
   "source": [
    "split_step(identity, A_gvd)"
   ]
  },
  {
   "cell_type": "code",
   "execution_count": null,
   "metadata": {},
   "outputs": [],
   "source": [
    "function heatmap_pulse(z, t, At, f, Af)\n",
    "    p1 = heatmap(z, t, abs.(At').^2, xlabel=\"z\", ylabel=\"I(t)\", title=\"Pulso\")\n",
    "    p2 = heatmap(z, f, abs.(Af').^2, xlabel=\"z\", ylabel=\"I(f)\", title=\"Espectro\")\n",
    "    plot(p1, p2, layout=(1,2), colorbar=false, zaxis=:log)\n",
    "end\n",
    "\n",
    "heatmap_pulse(z, t, At, f, Af)"
   ]
  },
  {
   "cell_type": "code",
   "execution_count": null,
   "metadata": {},
   "outputs": [],
   "source": [
    "function animate_pulse(At, Af, tlims, flims)\n",
    "    ylimsf = (0*unit(Af[1])^2, maximum(abs.(Af).^2))\n",
    "    ylimst = (0*unit(At[1])^2, maximum(abs.(At).^2))\n",
    "    \n",
    "    @gif for i in 1:N   \n",
    "        p2 = plot(f, abs.(Af[i,:]).^2, linewidth=2, xlims=flims, ylims=ylimsf, label=\"Potencia Total\", xlabel = \"f\", ylabel = \"I(f)\", title=\"Espectro\")\n",
    "        plot!(f, real(Af[i,:]).^2, label=\"En Fase\", linewidth=1); \n",
    "        plot!(f, imag(Af[i,:]).^2, label=\"Cuadratura\", linewidth=1)\n",
    "\n",
    "        p1 = plot(t, abs.(At[i,:]).^2, linewidth=2, xlims=tlims, ylims=ylimst, label=\"Potencia Total\", xlabel = \"t\", ylabel = \"I(t)\", title=\"Pulso\")\n",
    "        plot!(t, real(At[i,:]).^2, label=\"En Fase\", linewidth=1); \n",
    "        plot!(t, imag(At[i,:]).^2, label=\"Cuadratura\", linewidth=1)\n",
    "        plot(p1, p2, layout=(1,2))\n",
    "    end every 8\n",
    "end\n",
    "\n",
    "animate_pulse(At, Af, (-200, 200).*u\"ps\", (-50, 50).*u\"GHz\")"
   ]
  },
  {
   "cell_type": "code",
   "execution_count": null,
   "metadata": {},
   "outputs": [],
   "source": [
    "split_step(A_spm, A_gvd)\n",
    "\n",
    "heatmap_pulse(z, t, At, f, Af)"
   ]
  },
  {
   "cell_type": "code",
   "execution_count": null,
   "metadata": {},
   "outputs": [],
   "source": [
    "P0 = 10u\"mW\"\n",
    "At[1,:] = sqrt(P0)*exp.(-t.^4/(2*T0^4))\n",
    "Af[1,:] = normalize(t, At[1,:], f, ufft(At[1,:]) |> fftshift)\n",
    "\n",
    "split_step(A_spm, A_gvd)\n",
    "\n",
    "heatmap_pulse(z, t, At, f, Af)"
   ]
  },
  {
   "cell_type": "code",
   "execution_count": null,
   "metadata": {},
   "outputs": [],
   "source": [
    "P0 = 100u\"mW\"\n",
    "At[1,:] = sqrt(P0)*exp.(-t.^4/(2*T0^4))\n",
    "Af[1,:] = normalize(t, At[1,:], f, ufft(At[1,:]) |> fftshift)\n",
    "\n",
    "split_step(A_spm, A_gvd)\n",
    "\n",
    "heatmap_pulse(z, t, At, f, Af)"
   ]
  },
  {
   "cell_type": "code",
   "execution_count": null,
   "metadata": {},
   "outputs": [],
   "source": [
    "animate_pulse(At, Af, (-200, 200).*u\"ps\", (-100, 100).*u\"GHz\")"
   ]
  },
  {
   "cell_type": "code",
   "execution_count": null,
   "metadata": {},
   "outputs": [],
   "source": []
  }
 ],
 "metadata": {
  "kernelspec": {
   "display_name": "Julia 1.7.2",
   "language": "julia",
   "name": "julia-1.7"
  },
  "language_info": {
   "file_extension": ".jl",
   "mimetype": "application/julia",
   "name": "julia",
   "version": "1.7.2"
  },
  "orig_nbformat": 4
 },
 "nbformat": 4,
 "nbformat_minor": 2
}
